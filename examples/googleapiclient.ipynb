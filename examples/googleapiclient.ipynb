{
 "cells": [
  {
   "cell_type": "code",
   "execution_count": 1,
   "source": [
    "import pandas\r\n",
    "from googleapiclient.discovery import build\r\n",
    "\r\n",
    "with open('../api_key.txt') as f:\r\n",
    "    api_key = f.readline()"
   ],
   "outputs": [],
   "metadata": {}
  },
  {
   "cell_type": "code",
   "execution_count": 2,
   "source": [
    "comments = list()\r\n",
    "video_id = '1VCEwSyi8E4'\r\n",
    "\r\n",
    "# Create google api object\r\n",
    "api_obj = build('youtube', 'v3', developerKey=api_key)\r\n",
    "response = api_obj.commentThreads().list(part='snippet,replies', videoId=video_id, maxResults=100).execute()"
   ],
   "outputs": [],
   "metadata": {}
  },
  {
   "cell_type": "code",
   "execution_count": 3,
   "source": [
    "while response:\r\n",
    "    for item in response['items']:\r\n",
    "        comment = item['snippet']['topLevelComment']['snippet']\r\n",
    "        comments.append([comment['textDisplay'], comment['authorDisplayName'], comment['publishedAt'], comment['likeCount']])\r\n",
    " \r\n",
    "        if item['snippet']['totalReplyCount'] > 0:\r\n",
    "            for reply_item in item['replies']['comments']:\r\n",
    "                reply = reply_item['snippet']\r\n",
    "                comments.append([reply['textDisplay'], reply['authorDisplayName'], reply['publishedAt'], reply['likeCount']])\r\n",
    " \r\n",
    "    if 'nextPageToken' in response:\r\n",
    "        response = api_obj.commentThreads().list(part='snippet,replies', videoId=video_id, pageToken=response['nextPageToken'], maxResults=100).execute()\r\n",
    "    else:\r\n",
    "        break\r\n",
    " \r\n",
    "df = pandas.DataFrame(comments)\r\n",
    "df.to_excel('results.xlsx', header=['comment', 'author', 'date', 'num_likes'], index=None)\r\n",
    "\r\n",
    "# https://untitledtblog.tistory.com/169"
   ],
   "outputs": [],
   "metadata": {}
  },
  {
   "cell_type": "code",
   "execution_count": null,
   "source": [],
   "outputs": [],
   "metadata": {}
  }
 ],
 "metadata": {
  "orig_nbformat": 4,
  "language_info": {
   "name": "python",
   "version": "3.8.11",
   "mimetype": "text/x-python",
   "codemirror_mode": {
    "name": "ipython",
    "version": 3
   },
   "pygments_lexer": "ipython3",
   "nbconvert_exporter": "python",
   "file_extension": ".py"
  },
  "kernelspec": {
   "name": "python3",
   "display_name": "Python 3.8.11 64-bit ('youtube_env': conda)"
  },
  "interpreter": {
   "hash": "d4bf65f30728a6096a7ad3883846392423ebe07b00f52cc917a4c2f9022e0877"
  }
 },
 "nbformat": 4,
 "nbformat_minor": 2
}