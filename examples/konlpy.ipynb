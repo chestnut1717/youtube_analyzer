{
 "cells": [
  {
   "cell_type": "markdown",
   "metadata": {},
   "source": [
    "## konlpy"
   ]
  },
  {
   "cell_type": "code",
   "execution_count": 1,
   "metadata": {},
   "outputs": [],
   "source": [
    "from konlpy.tag import Okt\n",
    "# streamlit error \n",
    "# sol) update tweepy to 3.10.0"
   ]
  },
  {
   "cell_type": "code",
   "execution_count": 2,
   "metadata": {},
   "outputs": [],
   "source": [
    "okt = Okt()\n",
    "\n",
    "# systemerror ( already loaded in another classloader\n",
    "# sol) In env\\konlpy\\jvm.py, every * to be deleted from folder_suffix\n",
    "# https://byeon-sg.tistory.com/entry/자연어-처리-konlpy-설치-오류-okt에러-already-loaded-in-another-classloader-SystemErro-1 [wave])"
   ]
  },
  {
   "cell_type": "code",
   "execution_count": 3,
   "metadata": {},
   "outputs": [
    {
     "data": {
      "text/plain": [
       "[('나', 'Noun'),\n",
       " ('는', 'Josa'),\n",
       " ('코딩', 'Noun'),\n",
       " ('을', 'Josa'),\n",
       " ('무지무지', 'Adverb'),\n",
       " ('좋아합니다', 'Adjective'),\n",
       " ('!', 'Punctuation')]"
      ]
     },
     "execution_count": 3,
     "metadata": {},
     "output_type": "execute_result"
    }
   ],
   "source": [
    "# Pos-tagging(형태소 분석)\n",
    "text = '나는 코딩을 무지무지 좋아합니다!'\n",
    "okt.pos(text)"
   ]
  },
  {
   "cell_type": "code",
   "execution_count": 89,
   "metadata": {},
   "outputs": [
    {
     "data": {
      "text/plain": [
       "['나', '는', '코딩', '을', '무지무지', '좋아합니다', '!']"
      ]
     },
     "execution_count": 89,
     "metadata": {},
     "output_type": "execute_result"
    }
   ],
   "source": [
    "# Pos-tagging(형태소 분석)\n",
    "text = '나는 코딩을 무지무지 좋아합니다!'\n",
    "\n",
    "#pos와는 다르게 단순 나누기만함\n",
    "okt.morphs(text)"
   ]
  },
  {
   "cell_type": "code",
   "execution_count": 90,
   "metadata": {},
   "outputs": [
    {
     "data": {
      "text/plain": [
       "['아이폰', '갤럭시', '게', '더', '핸드폰']"
      ]
     },
     "execution_count": 90,
     "metadata": {},
     "output_type": "execute_result"
    }
   ],
   "source": [
    "# Extracting Nouns\n",
    "\n",
    "text = '아이폰이랑 갤럭시중 어느 게 더 좋은 핸드폰이야??'\n",
    "okt.nouns(text)\n",
    "\n",
    "# 간혹 명사 이외의 것(게, 더)가 명사로 인식된다"
   ]
  },
  {
   "cell_type": "code",
   "execution_count": 91,
   "metadata": {},
   "outputs": [
    {
     "name": "stdout",
     "output_type": "stream",
     "text": [
      "안녕하세요ㅋㅋㅋ 반가워요 사랑해\n"
     ]
    }
   ],
   "source": [
    "# 정규화 : 어지럽힌 문장을 깔끔하게 처리\n",
    "text = '안녕하세욬ㅋㅋㅋ 반가워요 샤릉해'\n",
    "print(okt.normalize(text))\n"
   ]
  },
  {
   "cell_type": "markdown",
   "metadata": {},
   "source": [
    "## BOW 실습"
   ]
  },
  {
   "cell_type": "code",
   "execution_count": 137,
   "metadata": {},
   "outputs": [
    {
     "name": "stdout",
     "output_type": "stream",
     "text": [
      "<class 'pandas.core.frame.DataFrame'>\n",
      "RangeIndex: 47 entries, 0 to 46\n",
      "Data columns (total 4 columns):\n",
      " #   Column     Non-Null Count  Dtype \n",
      "---  ------     --------------  ----- \n",
      " 0   comment    47 non-null     object\n",
      " 1   author     47 non-null     object\n",
      " 2   date       47 non-null     object\n",
      " 3   num_likes  47 non-null     int64 \n",
      "dtypes: int64(1), object(3)\n",
      "memory usage: 1.6+ KB\n"
     ]
    }
   ],
   "source": [
    "# bag of words\n",
    "# 간단하게 영어 단어 제거 => 정규화 및 필요 없는 단어, 특수문자 제거 => bow\n",
    "\n",
    "from konlpy.tag import Okt\n",
    "import re\n",
    "import pandas as pd\n",
    "\n",
    "okt = Okt()\n",
    "df = pd.read_excel('results.xlsx')\n",
    "df.info()\n",
    "df = df.fillna(' ')"
   ]
  },
  {
   "cell_type": "code",
   "execution_count": 139,
   "metadata": {},
   "outputs": [
    {
     "name": "stdout",
     "output_type": "stream",
     "text": [
      "0                                             진짜 기여워잉ㅠㅠ\n",
      "1                                망고처럼 꽃돌이가 너무 귀엽네옇ㅎㅎㅎㅎㅎ\n",
      "2                                           귀여운 새침이 ❤❤❤\n",
      "3                                        꽃돌이 남자에요? 여자에오\n",
      "4                                           꽃돌이는 여자에요~😄\n",
      "5                                              아 너무 귀여워\n",
      "6           제가 키웠던 토끼가 자기 집 위에 올라가서 못 내려오던 이유가 있었군요...ㅋ\n",
      "7                                이쁜것 ㅠㅠ아휴 ! 꽃돌이 관절 소즁해!\n",
      "8     이꽃돌씨와 우리 깜토(까미토끼)가만나면 어덯게 될까요?ㅋㅋ<br>큰토끼님!답글 부탁...\n",
      "9     @꽃돌이는배고파 FlowerisHungry 헉!감사해요!ㅠㅠ나중에 한번 될수있으면 ...\n",
      "10                        깜토랑 만나면 좋은 친구가 될 수 있을 것 같아요~😍\n",
      "11                                  꽃돌  왜 이렇게 귀여워서 난리양💕\n",
      "12    토끼한테 뽀뽀해주면 싫다고 앞발로 미는데 다리가 짧아서 집사는 같이 뽀뽀해주는 걸로...\n",
      "13       꽃돌이도 이불을 씹는구나 ㅜㅜ 톡톡톡하면서 망가지는 이불들이 남아 나질 않아..ㅜㅜ\n",
      "14                덕분에 매 시즌 새로운 이불을 살 수 있다는 장점(?)이 있습니다!\n",
      "15                                     꽃돌이 몸무게 몇kg 나가요?\n",
      "16               @꽃돌이는배고파 FlowerisHungry 꽃돌이가 살이많이쪘군요^^\n",
      "17                                          2.5kg 입니다!😄\n",
      "18                                        꽃돌이는 얼굴이 동글동글\n",
      "19                                 앙ㄱ 너무너문 너무너무 귀여워요ㅠㅠㅠ\n",
      "20                                              졸귀!!!!!\n",
      "21                                                귀여워요오\n",
      "22                                침대위에서 무엇을 열심히 관측하는걸까요\n",
      "23                                            그러게말이에요~😄\n",
      "24                                            인형인가요 ㅜㅠ💙\n",
      "25                                      아이쿠~!귀여운 꽂돌이♡♡♡\n",
      "26                                            귀 귀여워...🤩\n",
      "27    ㅋㅋㅋㅋㅋㅋㅋㅋㅋㅋ 올라갈 땐 거침없이 올라가지만 내려올 땐 세상 쫄보도 그런 쫄보...\n",
      "28               ...본능적으로 가장 푹신한 곳을 찾아서 내려왔군요. 똑똑한 뇨속!😎\n",
      "29                 꽃돌이는 귀도 도톰통통한게 너무귀여워요.. 이불탭은 맛있니?ㅋㅋㅋ\n",
      "30    앞다리는 짧지만 그 덕에 무척이나 귀엽고 앙증맞다는 사실. 높은 곳 좋아하는 건 어...\n",
      "31                  짧아서 너무 귀여워🤗😘 근데 또 높은 곳은 좋아하는 꽃돌이 🐰🐰\n",
      "32                          큰토끼님🤦🏻‍♀️~~~에휴 나를 밟고 가시오😂🤣🤣\n",
      "33                                  ㅠㅠㅠㅠ 귀여워 귀여워 ㅠㅠㅠ 엉엉\n",
      "34                                         쥐엔장 너무 기여웡..\n",
      "35                                            이꽃돌 사랑해♡♡\n",
      "36                            내려오다가 골절이라니 ㅜㅜ 불쌍한 토끼들 ㅜㅜ\n",
      "37                 굴토끼의 후예라서 짧은 앞다리는 어쩔수없지만 귀여운건 못참지🤣🤣🤣\n",
      "38                                                귀쫑긋 🐇\n",
      "39                      꽃돌이 침대머리쪽에서 뿅하고 고개내미는거 너무 귀여워용💕\n",
      "40                                           ㅋㅋ큐ㅠㅠㅠ기여워어\n",
      "41                     꽃돌이 때문에 전쟁낫어 사랑스러war... 귀여war...\n",
      "42                 앞다리가 짧은 꽃돌이와 뒷다리가 짧은 큰토끼님의 영상 잘봤습니다😄\n",
      "43    @꽃돌이는배고파 FlowerisHungry 울음소리도 토끼를 닮아가시는 모습이 보기...\n",
      "44                                              이이이익!!😡\n",
      "45                                            ㅅㅂ ㅋㅋㅋㅋㅋㅋ\n",
      "46                                       뭉툭한 입주변이 너무귀여움\n",
      "Name: comment, dtype: object\n"
     ]
    }
   ],
   "source": [
    "print(df['comment'])"
   ]
  },
  {
   "cell_type": "code",
   "execution_count": 135,
   "metadata": {},
   "outputs": [],
   "source": [
    "# 1. 필요 없는(이모티콘 등 의미 없는) 부분 전처리\n",
    "# 2. youtube comments에 @nickname~ 이런 경우가 있어, author column의 문자열들 모두 comments에서 모두 삭제해야 한다.\n",
    "\n",
    "# https://stackoverflow.com/questions/10968558/python-re-sub-with-a-list-of-words-to-find\n",
    "\n",
    "\n",
    "# 해결 : authors_regex에서 사전으로 특수문자 제거(메타 char 될 수 있는거) 제거 후, authors_regex부터 제거\n",
    "\n",
    "author = set()\n",
    "authors = set(['@' + re.sub('\\W+', ' ', i) for i in df['author']])\n",
    "authors_regex = \"|\".join(authors)\n",
    "\n",
    "for line in df['comment']:\n",
    "    line = re.sub('\\W+',' ', line)           # 특수 문자 스페이스로 대체.\n",
    "    line = re.sub(authors_regex, ' ', line)     # 특별한 의미 없는 단어 스페이스로 대체.\n",
    "\n",
    "comments = []\n",
    "for line in df['comment']:\n",
    "\n",
    "        line = re.sub(authors_regex, ' ', line)  # 댓글 중 tag한 거 다 제거\n",
    "        line = re.sub('\\W+',' ', line)           # 특수 문자 스페이스로 대체.\n",
    "        line = re.sub('\\d+',' ', line)         # 수치 스페이스로 대체.\n",
    "        line = re.sub('\\n',' ',line)             # line return 스페이스로 대체.\n",
    "        line = re.sub('[\\[\\]]', ' ',line)        # 대괄호 스페이스로 대체.\n",
    "        line = re.sub('[a-zA-Z]',' ',line)       # 영문 스페이스로 대체.\n",
    "        line = re.sub('[ㄱ-ㅎ | ㅏ-ㅣ]', ' ', line)     # 단모음, 단자음 스페이스로 대체.\n",
    "        line = re.sub('\\s+', ' ', line)          # 잉여 스페이즈 줄임.\n",
    "        # line = okt.normalize(line)            # 시간이 너무 걸림. 그리고 불필요한 작업\n",
    "        comments.append(line.strip())\n"
   ]
  },
  {
   "cell_type": "code",
   "execution_count": 140,
   "metadata": {},
   "outputs": [
    {
     "name": "stdout",
     "output_type": "stream",
     "text": [
      "['진짜 기여워잉', '망고처럼 꽃돌이가 너무 귀엽네옇', '귀여운 새침이', '꽃돌이 남자에요 여자에오', '꽃돌이는 여자에요', '아 너무 귀여워', '제가 키웠던 토끼가 자기 집 위에 올라가서 못 내려오던 이유가 있었군요', '이쁜것 아휴 꽃돌이 관절 소즁해', '이꽃돌씨와 우리 깜토 까미토끼 가만나면 어덯게 될까요 큰토끼님 답글 부탁드려용', '헉 감사해요 나중에 한번 될수있으면 꽃돌이보러갈께요', '깜토랑 만나면 좋은 친구가 될 수 있을 것 같아요', '꽃돌 왜 이렇게 귀여워서 난리양', '토끼한테 뽀뽀해주면 싫다고 앞발로 미는데 다리가 짧아서 집사는 같이 뽀뽀해주는 걸로 알고 좋아 죽음 토끼는 거절 했는데 계속해서 빡쳐 죽음', '꽃돌이도 이불을 씹는구나 톡톡톡하면서 망가지는 이불들이 남아 나질 않아', '덕분에 매 시즌 새로운 이불을 살 수 있다는 장점 이 있습니다', '꽃돌이 몸무게 몇 나가요', '꽃돌이가 살이많이쪘군요', '입니다', '꽃돌이는 얼굴이 동글동글', '앙 너무너문 너무너무 귀여워요', '졸귀', '귀여워요오', '침대위에서 무엇을 열심히 관측하는걸까요', '그러게말이에요', '인형인가요', '아이쿠 귀여운 꽂돌이', '귀 귀여워', '올라갈 땐 거침없이 올라가지만 내려올 땐 세상 쫄보도 그런 쫄보가 없는거 너무 공감이에요 저희 토끼도 소파 위에 올라가는걸 좋아하는데 매번 내려오지를 못해서 제가 밑에 누워있을 땐 항상 푹신한 제 뱃살로 뛰어내려오곤 해요', '본능적으로 가장 푹신한 곳을 찾아서 내려왔군요 똑똑한 뇨속', '꽃돌이는 귀도 도톰통통한게 너무귀여워요 이불탭은 맛있니', '앞다리는 짧지만 그 덕에 무척이나 귀엽고 앙증맞다는 사실 높은 곳 좋아하는 건 어쩔 수 없지만 내려오기 힘들다 싶으면 꼭 큰토끼님 도움을 받아야 한다 혼자서 막 내려오다 다치지 말고 손톱 하나 다쳐서 피 흘리는 모습조차도 보고싶지 않아', '짧아서 너무 귀여워 근데 또 높은 곳은 좋아하는 꽃돌이', '큰토끼님 에휴 나를 밟고 가시오', '귀여워 귀여워 엉엉', '쥐엔장 너무 기여웡', '이꽃돌 사랑해', '내려오다가 골절이라니 불쌍한 토끼들', '굴토끼의 후예라서 짧은 앞다리는 어쩔수없지만 귀여운건 못참지', '귀쫑긋', '꽃돌이 침대머리쪽에서 뿅하고 고개내미는거 너무 귀여워용', '큐 기여워어', '꽃돌이 때문에 전쟁낫어 사랑스러 귀여', '앞다리가 짧은 꽃돌이와 뒷다리가 짧은 큰토끼님의 영상 잘봤습니다', '울음소리도 토끼를 닮아가시는 모습이 보기 흐뭇하고 그렇네요', '이이이익', '', '뭉툭한 입주변이 너무귀여움']\n"
     ]
    }
   ],
   "source": [
    "\n",
    "print(comments)"
   ]
  },
  {
   "cell_type": "code",
   "execution_count": 128,
   "metadata": {},
   "outputs": [],
   "source": [
    "# COMMENT에서 명사, 형용사, 동사만 추출\n",
    "com_noun = {}\n",
    "com_verb = {}\n",
    "com_adj = {}\n",
    "\n",
    "\n",
    "\n",
    "for com in comments:\n",
    "    tmp = okt.pos(com)\n",
    "\n",
    "    # 품사 태그를 통해 명, 형, 동 구분\n",
    "    for t in tmp:\n",
    "        word, tag = t[0], t[1]\n",
    "        if tag == 'Noun':\n",
    "            if word in com_noun:\n",
    "                com_noun[word] += 1\n",
    "            else:\n",
    "                com_noun[word] = 1\n",
    "\n",
    "        elif tag == 'Verb':\n",
    "            if word in com_verb:\n",
    "                com_verb[word] += 1\n",
    "            else:\n",
    "                com_verb[word] = 1\n",
    "\n",
    "        elif tag == 'Adjective':\n",
    "            if word in com_adj:\n",
    "                com_adj[word] += 1\n",
    "            else:\n",
    "                com_adj[word] = 1\n",
    "\n",
    "com_noun = sorted(list(com_noun.items()), key= lambda x: (x[1], x[0]), reverse=True)\n",
    "com_verb = sorted(list(com_verb.items()), key= lambda x: (x[1], x[0]), reverse=True)\n",
    "com_adj = sorted(list(com_adj.items()), key= lambda x: (x[1], x[0]), reverse=True)"
   ]
  },
  {
   "cell_type": "code",
   "execution_count": 129,
   "metadata": {},
   "outputs": [
    {
     "name": "stdout",
     "output_type": "stream",
     "text": [
      "[('돌이', 18), ('꽃', 17), ('토끼', 10), ('수', 4), ('제', 3), ('이불', 3), ('위', 3), ('앞다리', 3), ('땐', 3), ('꽃돌', 3)]\n"
     ]
    }
   ],
   "source": [
    "print(com_noun[:10])\n"
   ]
  },
  {
   "cell_type": "code",
   "execution_count": 130,
   "metadata": {},
   "outputs": [
    {
     "name": "stdout",
     "output_type": "stream",
     "text": [
      "[('큰', 4), ('해서', 2), ('않아', 2), ('만나면', 2), ('흘리는', 1), ('했는데', 1), ('해주면', 1), ('해주는', 1), ('해', 1), ('한다', 1)]\n"
     ]
    }
   ],
   "source": [
    "print(com_verb[:10])"
   ]
  },
  {
   "cell_type": "code",
   "execution_count": 120,
   "metadata": {},
   "outputs": [
    {
     "name": "stdout",
     "output_type": "stream",
     "text": [
      "[('같은', 175), ('없는', 120), ('입니다', 112), ('있는', 93), ('이런', 86), ('나쁜', 84), ('같은데', 83), ('없다', 79), ('좋은', 73), ('많은', 71)]\n"
     ]
    }
   ],
   "source": [
    "print(com_adj[:10])"
   ]
  },
  {
   "cell_type": "markdown",
   "metadata": {},
   "source": [
    "## DTM & TFIDF"
   ]
  },
  {
   "cell_type": "code",
   "execution_count": 131,
   "metadata": {},
   "outputs": [
    {
     "name": "stdout",
     "output_type": "stream",
     "text": [
      "[[0 0 0 ... 0 0 0]\n",
      " [0 0 0 ... 0 0 0]\n",
      " [0 0 0 ... 0 0 0]\n",
      " ...\n",
      " [0 0 0 ... 0 0 0]\n",
      " [0 0 0 ... 0 0 0]\n",
      " [0 0 0 ... 0 0 0]]\n"
     ]
    }
   ],
   "source": [
    "# dtm class\n",
    "import numpy as np\n",
    "\n",
    "class DTM:\n",
    "    def __init__(self):\n",
    "        self.vocabulary = None\n",
    "\n",
    "\n",
    "    def dtm_build(self, comments):\n",
    "        comments_remake = []\n",
    "        col_word = set()\n",
    "\n",
    "        # 형태소 및 단어에서 단어 글자 크기가 1 이하이면 제외(sklearn과 동일하게 작동하도록 함)\n",
    "        for com in comments:\n",
    "            comments_remake.append([])\n",
    "            tmp = com.split()\n",
    "\n",
    "            for word in tmp:\n",
    "\n",
    "                word_re = okt.pos(word)\n",
    "                if len(word_re[0][0]) < 2:\n",
    "                    continue\n",
    "                col_word.add(word_re[0][0])\n",
    "                comments_remake[-1].append(word_re[0][0])\n",
    "        \n",
    "        col_word = list(col_word)\n",
    "\n",
    "        dtm = np.zeros(shape=(len(comments_remake), len(col_word)), dtype=np.int32) # row = comments, col = set of unique voca\n",
    "        \n",
    "        for i in range(len(comments_remake)):\n",
    "            comment = comments_remake[i]\n",
    "            for j in range(len(comment)):\n",
    "                word = comment[j]\n",
    "                if word in col_word:\n",
    "                    idx = col_word.index(word)\n",
    "                    dtm[i, idx] += 1\n",
    "\n",
    "\n",
    "        self.vocabulary = {i:word for i, word in enumerate(col_word)}\n",
    "        return dtm\n",
    "\n",
    "            \n",
    "dtm = DTM()\n",
    "new_dtm = dtm.dtm_build(comments)\n",
    "print(new_dtm)\n",
    "# print(dtm.vocabulary)\n",
    "\n"
   ]
  },
  {
   "cell_type": "code",
   "execution_count": 132,
   "metadata": {},
   "outputs": [
    {
     "name": "stdout",
     "output_type": "stream",
     "text": [
      "진짜 0.7422031318471273\n",
      "남자 0.7422031318471273\n",
      "귀여워 0.7856389514504228\n",
      "관절 0.7071067811865475\n",
      "나가요 0.7071067811865475\n",
      "동글동글 0.7071067811865475\n",
      "너무 0.8060093627548559\n",
      "아이쿠 0.7422031318471273\n",
      "귀여워 0.8420957014832894\n",
      "기여웡 0.8518852253129331\n",
      "짧은 0.7399133856298227\n",
      "뭉툭 0.8518852253129331\n"
     ]
    }
   ],
   "source": [
    "from sklearn.feature_extraction.text import CountVectorizer\n",
    "from sklearn.feature_extraction.text import TfidfVectorizer\n",
    "\n",
    "comments_remake = []\n",
    "col_word = set()\n",
    "\n",
    "\n",
    "for com in comments:\n",
    "    tmp = com.split()\n",
    "    strs = []\n",
    "    for word in tmp:\n",
    "        word_re = okt.pos(word)\n",
    "        col_word.add(word_re[0][0])\n",
    "        strs.append(word_re[0][0])\n",
    "    comments_remake.append(' '.join(strs))\n",
    "    \n",
    "tfidfv = TfidfVectorizer().fit(comments_remake)\n",
    "tfidf_matrix = tfidfv.transform(comments_remake).toarray()\n",
    "voca_dict = tfidfv.vocabulary_\n",
    "\n",
    "\n",
    "for i in range(tfidf_matrix.shape[0]):\n",
    "    max_value = tfidf_matrix[i].argmax()\n",
    "    m = tfidf_matrix[i].max()\n",
    "    if  m > 0.7 and m < 1:\n",
    "        print(list(voca_dict.keys())[list(voca_dict.values()).index(max_value)], m)"
   ]
  }
 ],
 "metadata": {
  "interpreter": {
   "hash": "d4bf65f30728a6096a7ad3883846392423ebe07b00f52cc917a4c2f9022e0877"
  },
  "kernelspec": {
   "display_name": "Python 3.8.11 64-bit ('youtube_env': conda)",
   "name": "python3"
  },
  "language_info": {
   "codemirror_mode": {
    "name": "ipython",
    "version": 3
   },
   "file_extension": ".py",
   "mimetype": "text/x-python",
   "name": "python",
   "nbconvert_exporter": "python",
   "pygments_lexer": "ipython3",
   "version": "3.8.11"
  },
  "orig_nbformat": 4
 },
 "nbformat": 4,
 "nbformat_minor": 2
}
