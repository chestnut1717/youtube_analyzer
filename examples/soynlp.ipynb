{
 "cells": [
  {
   "cell_type": "code",
   "execution_count": 18,
   "metadata": {},
   "outputs": [],
   "source": [
    "from soynlp.noun import LRNounExtractor_v2\n",
    "import pandas as pd\n",
    "import numpy as np\n",
    "import re"
   ]
  },
  {
   "cell_type": "code",
   "execution_count": 19,
   "metadata": {},
   "outputs": [],
   "source": [
    "def make_corpus(path):\n",
    "    df = read_file(path)\n",
    "\n",
    "    authors = set(['@' + re.sub('\\W+', ' ', i) for i in df['author']])\n",
    "    authors_regex = \"|\".join(authors)\n",
    "    \n",
    "    # author processing\n",
    "    for line in df['comment']:\n",
    "        line = re.sub('\\W+',' ', line)  \n",
    "        line = re.sub(authors_regex, ' ', line)\n",
    "\n",
    "    # comment processing\n",
    "    subs_expr = [authors_regex, '\\W+', '\\d+', '\\n', '[\\[\\]]', '[a-zA-Z]', '[ㄱ-ㅎ | ㅏ-ㅣ]', '\\s+']\n",
    "    comments = []\n",
    "\n",
    "    for line in df['comment']:\n",
    "        for expr in subs_expr:\n",
    "            line = re.sub(expr, ' ', line)\n",
    "        \n",
    "        # 정제한 후, 스페이스만 남아있으면 제외함\n",
    "        f_line = line.strip()\n",
    "        if len(f_line) > 0:\n",
    "            comments.append(f_line) \n",
    "    \n",
    "    return comments\n",
    "\n",
    "\n",
    "def read_file(path):\n",
    "    df = pd.read_excel(path)\n",
    "    df.fillna(' ', inplace=True)\n",
    "    return df\n",
    "\n",
    "\n"
   ]
  },
  {
   "cell_type": "code",
   "execution_count": 20,
   "metadata": {},
   "outputs": [
    {
     "name": "stdout",
     "output_type": "stream",
     "text": [
      "[Noun Extractor] use default predictors\n",
      "[Noun Extractor] num features: pos=3929, neg=2321, common=107\n",
      "['진짜 기여워잉', '망고처럼 꽃돌이가 너무 귀엽네옇', '귀여운 새침이', '꽃돌이 남자에요 여자에오', '꽃돌이는 여자에요', '아 너무 귀여워', '제가 키웠던 토끼가 자기 집 위에 올라가서 못 내려오던 이유가 있었군요', '이쁜것 아휴 꽃돌이 관절 소즁해', '이꽃돌씨와 우리 깜토 까미토끼 가만나면 어덯게 될까요 큰토끼님 답글 부탁드려용', '헉 감사해요 나중에 한번 될수있으면 꽃돌이보러갈께요', '깜토랑 만나면 좋은 친구가 될 수 있을 것 같아요', '꽃돌 왜 이렇게 귀여워서 난리양', '토끼한테 뽀뽀해주면 싫다고 앞발로 미는데 다리가 짧아서 집사는 같이 뽀뽀해주는 걸로 알고 좋아 죽음 토끼는 거절 했는데 계속해서 빡쳐 죽음', '꽃돌이도 이불을 씹는구나 톡톡톡하면서 망가지는 이불들이 남아 나질 않아', '덕분에 매 시즌 새로운 이불을 살 수 있다는 장점 이 있습니다', '꽃돌이 몸무게 몇 나가요', '꽃돌이가 살이많이쪘군요', '입니다', '꽃돌이는 얼굴이 동글동글', '앙 너무너문 너무너무 귀여워요', '졸귀', '귀여워요오', '침대위에서 무엇을 열심히 관측하는걸까요', '그러게말이에요', '인형인가요', '아이쿠 귀여운 꽂돌이', '귀 귀여워', '올라갈 땐 거침없이 올라가지만 내려올 땐 세상 쫄보도 그런 쫄보가 없는거 너무 공감이에요 저희 토끼도 소파 위에 올라가는걸 좋아하는데 매번 내려오지를 못해서 제가 밑에 누워있을 땐 항상 푹신한 제 뱃살로 뛰어내려오곤 해요', '본능적으로 가장 푹신한 곳을 찾아서 내려왔군요 똑똑한 뇨속', '꽃돌이는 귀도 도톰통통한게 너무귀여워요 이불탭은 맛있니', '앞다리는 짧지만 그 덕에 무척이나 귀엽고 앙증맞다는 사실 높은 곳 좋아하는 건 어쩔 수 없지만 내려오기 힘들다 싶으면 꼭 큰토끼님 도움을 받아야 한다 혼자서 막 내려오다 다치지 말고 손톱 하나 다쳐서 피 흘리는 모습조차도 보고싶지 않아', '짧아서 너무 귀여워 근데 또 높은 곳은 좋아하는 꽃돌이', '큰토끼님 에휴 나를 밟고 가시오', '귀여워 귀여워 엉엉', '쥐엔장 너무 기여웡', '이꽃돌 사랑해', '내려오다가 골절이라니 불쌍한 토끼들', '굴토끼의 후예라서 짧은 앞다리는 어쩔수없지만 귀여운건 못참지', '귀쫑긋', '꽃돌이 침대머리쪽에서 뿅하고 고개내미는거 너무 귀여워용', '큐 기여워어', '꽃돌이 때문에 전쟁낫어 사랑스러 귀여', '앞다리가 짧은 꽃돌이와 뒷다리가 짧은 큰토끼님의 영상 잘봤습니다', '울음소리도 토끼를 닮아가시는 모습이 보기 흐뭇하고 그렇네요', '이이이익', '뭉툭한 입주변이 너무귀여움']\n",
      "[Noun Extractor] counting eojeols\n",
      "[EojeolCounter] n eojeol = 241 from 46 sents. mem=0.160 Gb                    \n",
      "[Noun Extractor] complete eojeol counter -> lr graph\n",
      "[Noun Extractor] has been trained. #eojeols=277, mem=0.160 Gb\n",
      "[Noun Extractor] batch prediction was completed for 79 words\n",
      "[Noun Extractor] checked compounds. discovered 0 compounds\n",
      "[Noun Extractor] postprocessing detaching_features : 20 -> 20\n",
      "[Noun Extractor] postprocessing ignore_features : 20 -> 20\n",
      "[Noun Extractor] postprocessing ignore_NJ : 20 -> 20\n",
      "[Noun Extractor] 20 nouns (0 compounds) with min frequency=1\n",
      "[Noun Extractor] flushing was done. mem=0.160 Gb                    \n",
      "[Noun Extractor] 24.55 % eojeols are covered\n"
     ]
    },
    {
     "data": {
      "text/plain": [
       "{'큰토끼님': NounScore(frequency=4, score=1.0),\n",
       " '꽃돌이': NounScore(frequency=11, score=1.0),\n",
       " '앞다리': NounScore(frequency=3, score=1.0),\n",
       " '이꽃돌': NounScore(frequency=2, score=1.0),\n",
       " '토끼': NounScore(frequency=5, score=0.6),\n",
       " '쫄보': NounScore(frequency=2, score=1.0),\n",
       " '뽀뽀': NounScore(frequency=2, score=1.0),\n",
       " '좋아': NounScore(frequency=2, score=1.0),\n",
       " '이불': NounScore(frequency=3, score=1.0),\n",
       " '모습': NounScore(frequency=2, score=1.0),\n",
       " '사랑': NounScore(frequency=1, score=0.5),\n",
       " '깜토': NounScore(frequency=2, score=1.0),\n",
       " '내려': NounScore(frequency=3, score=0.42857142857142855),\n",
       " '못': NounScore(frequency=2, score=0.6666666666666666),\n",
       " '제': NounScore(frequency=3, score=1.0),\n",
       " '다': NounScore(frequency=2, score=1.0),\n",
       " '곳': NounScore(frequency=3, score=1.0),\n",
       " '새': NounScore(frequency=1, score=0.5),\n",
       " '덕': NounScore(frequency=1, score=0.5),\n",
       " '집': NounScore(frequency=2, score=1.0)}"
      ]
     },
     "execution_count": 20,
     "metadata": {},
     "output_type": "execute_result"
    }
   ],
   "source": [
    "# 명사 추출 => 빈도 기반\n",
    "noun_extractor = LRNounExtractor_v2()\n",
    "\n",
    "path = 'results.xlsx'\n",
    "sentences = make_corpus(path)\n",
    "print(sentences)\n",
    "nouns = noun_extractor.train_extract(sentences) # list of str like\n",
    "\n",
    "nouns\n"
   ]
  },
  {
   "cell_type": "code",
   "execution_count": 22,
   "metadata": {},
   "outputs": [
    {
     "data": {
      "text/plain": [
       "[('', 6), ('는', 3), ('가', 2), ('보러갈께요', 1), ('도', 1), ('와', 1)]"
      ]
     },
     "execution_count": 22,
     "metadata": {},
     "output_type": "execute_result"
    }
   ],
   "source": [
    "noun_extractor.lrgraph.get_r('꽃돌이')"
   ]
  },
  {
   "cell_type": "code",
   "execution_count": 25,
   "metadata": {},
   "outputs": [
    {
     "data": {
      "text/plain": [
       "[]"
      ]
     },
     "execution_count": 25,
     "metadata": {},
     "output_type": "execute_result"
    }
   ],
   "source": [
    "noun_extractor.lrgraph.get_l('꽃돌이')"
   ]
  },
  {
   "cell_type": "code",
   "execution_count": null,
   "metadata": {},
   "outputs": [],
   "source": []
  }
 ],
 "metadata": {
  "interpreter": {
   "hash": "d4bf65f30728a6096a7ad3883846392423ebe07b00f52cc917a4c2f9022e0877"
  },
  "kernelspec": {
   "display_name": "Python 3.8.11 64-bit ('youtube_env': conda)",
   "name": "python3"
  },
  "language_info": {
   "codemirror_mode": {
    "name": "ipython",
    "version": 3
   },
   "file_extension": ".py",
   "mimetype": "text/x-python",
   "name": "python",
   "nbconvert_exporter": "python",
   "pygments_lexer": "ipython3",
   "version": "3.8.11"
  },
  "orig_nbformat": 4
 },
 "nbformat": 4,
 "nbformat_minor": 2
}
